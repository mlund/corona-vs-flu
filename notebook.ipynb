{
 "cells": [
  {
   "cell_type": "markdown",
   "metadata": {},
   "source": [
    "# Corona and Flu Spread 2019-2020\n",
    "\n",
    "The aim of this notebook is to track the spread of Corona virus and, for comparison, seasonal flu.\n",
    "\n",
    "- Comparison flu vs corona: https://www.npr.org/sections/goatsandsoda/2020/03/20/815408287/how-the-novel-coronavirus-and-the-flu-are-alike-and-different?t=1584960018733\n",
    "- World flu deaths: https://www.npr.org/sections/goatsandsoda/2020/03/20/815408287/how-the-novel-coronavirus-and-the-flu-are-alike-and-different?t=1584960018733\n",
    "\n",
    "Todo:\n",
    "\n",
    "- Find flu database. National statistics on death causes. Deaths on flu and pneumonia are often grouped together.\n",
    "  - Sweden: https://sdb.socialstyrelsen.se/if_dor/val.aspx\n",
    "  - Denmark: https://www.dst.dk/da/Statistik/emner/befolkning-og-valg/doedsfald-og-middellevetid/doedsfald\n",
    "  - USA: https://www.kff.org/other/state-indicator/influenza-and-pneumonia-death-rate/?currentTimeframe=0&sortModel=%7B\"colId\":\"Location\",\"sort\":\"asc\"%7D"
   ]
  },
  {
   "cell_type": "code",
   "execution_count": null,
   "metadata": {},
   "outputs": [],
   "source": [
    "%matplotlib inline\n",
    "import matplotlib.pyplot as plt\n",
    "import numpy as np\n",
    "import pandas as pd\n",
    "#from scipy.misc import derivative\n",
    "import datetime"
   ]
  },
  {
   "cell_type": "code",
   "execution_count": null,
   "metadata": {
    "scrolled": true
   },
   "outputs": [],
   "source": [
    "# source: https://www.ecdc.europa.eu/en/publications-data/download-todays-data-geographic-distribution-covid-19-cases-worldwide\n",
    "today = datetime.date.today().strftime(\"%Y-%m-%d\")\n",
    "url = \"https://www.ecdc.europa.eu/sites/default/files/documents/COVID-19-geographic-disbtribution-worldwide-2020-08-30.xlsx\"\n",
    "db = pd.read_excel(url, usecols=[0,4,5,6], converters= {'DateRep': pd.to_datetime})\n",
    "db.rename(columns={\"countriesAndTerritories\": \"Country\"}, inplace=True, errors=\"raise\")\n",
    "db.rename(columns={\"dateRep\": \"Date\"}, inplace=True, errors=\"raise\")\n",
    "db.rename(columns={\"deaths\": \"Dead\"}, inplace=True, errors=\"raise\")\n",
    "db.rename(columns={\"cases\": \"Cases\"}, inplace=True, errors=\"raise\")\n",
    "db.sort_values('Date', inplace=True)\n",
    "db[\"Deadsum\"] = db.groupby(by=['Country']).cumsum().Dead\n",
    "\n",
    "# read and mangle country population database\n",
    "population = pd.read_html(\"https://en.wikipedia.org/wiki/List_of_countries_by_population_(United_Nations)\")[1]\n",
    "population.drop(columns=[1,2,3,5], inplace=True)\n",
    "population = population.rename(columns={0: \"Country\", 4: \"Population\"}).dropna()\n",
    "population[\"Country\"] = population[\"Country\"].replace(to_replace=\"China[a]\", value=\"China\")\n",
    "population[\"Country\"] = population[\"Country\"].replace(to_replace=\"Spain[d]\", value=\"Spain\")\n",
    "population[\"Country\"] = population[\"Country\"].replace(to_replace=\"Norway[m]\", value=\"Norway\")\n",
    "population[\"Country\"] = population[\"Country\"].replace(to_replace=\"France[b]\", value=\"France\")\n",
    "population[\"Country\"] = population[\"Country\"].replace(to_replace=\"Czech Republic\", value=\"Czech_Republic\")\n",
    "population[\"Country\"] = population[\"Country\"].replace(to_replace=\"United Kingdom\", value=\"United_Kingdom\")\n",
    "population[\"Country\"] = population[\"Country\"].replace(to_replace=\"United States\", value=\"United_States_of_America\")\n",
    "\n",
    "# merge the two databases above\n",
    "db = pd.merge(db, population, on=\"Country\")\n",
    "db.Population = db[\"Population\"].astype(int).values\n",
    "db[\"dead_per_million\"] = db.Deadsum / db.Population * 1e6\n",
    "db"
   ]
  },
  {
   "cell_type": "code",
   "execution_count": null,
   "metadata": {},
   "outputs": [],
   "source": [
    "# total deaths by flu or pneumonia in 2018. Sources from links above\n",
    "flu = dict(\n",
    "    Denmark=2103, # Source: DST\n",
    "    Sweden=2578,  # Source: SDB\n",
    "    USA=59120,    # Source: see above\n",
    "    Italy=24981   # Source: https://www.ijidonline.com/article/S1201-9712(19)30328-5/fulltext (Note 2016/2017)\n",
    ")\n",
    "flu = pd.DataFrame.from_dict(flu, columns=[ \"Country\"], orient='index').reset_index().rename(columns={\"index\": \"Country\", \"Country\": \"total_deaths\"})\n",
    "flu = pd.merge(flu, population, on='Country')\n",
    "flu.Population = flu[\"Population\"].astype(int).values\n",
    "flu['dead_per_million'] = flu.total_deaths / flu.Population * 1e6\n",
    "flu"
   ]
  },
  {
   "cell_type": "markdown",
   "metadata": {},
   "source": [
    "# Time evolution\n",
    "\n",
    "The plot below shows accumulated deaths due to COVID 19, while for seasonal flu and pnemonia it's the cumulated sum for the whole year (high-resolution data not found so far). The right-hand graphs shows the data on a logarithmic scale to better see the rate.\n",
    "\n",
    "Some statistics:\n",
    "\n",
    "- according to www.dst.dk, 53958 people died in Denmark in 2019. Of these, 41672 were 70 years of age or older, corresponding to 77% of recorded deaths.\n",
    "- as of March 23, 13 people have died in Denmark of COVID 19, predominantly in the 70+ age group mentioned above. This corresponds to 0.03% of the deaths in that group. Obviously this number will increase over the year."
   ]
  },
  {
   "cell_type": "code",
   "execution_count": null,
   "metadata": {},
   "outputs": [],
   "source": [
    "plt.rcParams.update({'font.size': 18, 'figure.figsize': [12, 12]})\n",
    "fig, ax = plt.subplots(2, 2, sharex=False)\n",
    "\n",
    "countries = ['Denmark', 'Sweden', 'Italy', 'United_States_of_America']\n",
    "for country in countries:\n",
    "    ykey=\"dead_per_million\"\n",
    "    mask = db[\"Country\"] == country\n",
    "\n",
    "    slope = np.gradient(db[mask][ykey].values)\n",
    "    pd.Series(slope, db[mask].Date).plot(ax=ax[1][0], lw=4, alpha=0.8, label=country, ls='-', marker='None')\n",
    "\n",
    "    db[mask].plot(x=\"Date\", y=ykey, ax=ax[0][0], lw=3, alpha=0.8, marker='None')\n",
    "    db[mask].plot(x=\"Date\", y=ykey, ax=ax[0][1], lw=3, alpha=0.8, marker='None')\n",
    "\n",
    "ax[0][0].set_ylabel(\"Total deaths per million since Jan 2020\")\n",
    "ax[0][0].set_xlabel(\"\")\n",
    "ax[0][1].set_xlabel(\"\")\n",
    "ax[0][1].set_yscale('log')\n",
    "#ax[1][0].set_yscale('log')\n",
    "ax[0][0].set_yscale('linear')\n",
    "ax[1][0].set_ylabel('Derivative (deaths/million/day)')\n",
    "ax[1][0].legend(loc=0, frameon=False, fontsize='small')\n",
    "ax[0][0].get_legend().remove()\n",
    "ax[0][1].get_legend().remove()\n",
    "fig.delaxes(ax[1][1])\n",
    "\n",
    "prop_cycle = plt.rcParams['axes.prop_cycle']\n",
    "colors = prop_cycle.by_key()['color']\n",
    "cnt=0\n",
    "for country in ['Denmark', 'Sweden', 'Italy']:\n",
    "    mask = flu.Country == country\n",
    "    val = flu[mask].dead_per_million.values\n",
    "    ax[0][0].axhline(y=val, color=colors[cnt], linestyle='--', lw=3, alpha=0.8)\n",
    "    cnt+=1\n",
    "\n",
    "ax[0][0].set_xlim('2020-02-24', today)\n",
    "ax[0][1].set_xlim('2020-02-17', today)\n",
    "ax[1][0].set_xlim('2020-02-24', today)\n",
    "\n",
    "ax[0][0].text(0.06, 0.55, r'↑ Seasonal flu and pnemonia (summed, 2018)', transform=ax[0][0].transAxes, size='x-small')\n",
    "ax[0][0].text(0.60, 1.05, 'COVID-19 deaths per capita', size='large', transform=ax[0][0].transAxes)\n",
    "\n",
    "ax[0][1].text(0.25, -1.63, 'Source: ECDC', transform=ax[0][1].transAxes, size='x-small', style='italic')\n",
    "ax[0][1].text(0.25, -1.7, 'https://github.com/mlund/corona-vs-flu', transform=ax[0][1].transAxes, size='x-small', style='italic')\n",
    "    \n",
    "plt.tight_layout()\n",
    "#plt.savefig('corona-vs-flu.png', bbox_inches='tight')\n"
   ]
  },
  {
   "cell_type": "code",
   "execution_count": null,
   "metadata": {},
   "outputs": [],
   "source": [
    "l = db.Country.values\n",
    "[i for i in l if i.startswith('United')]"
   ]
  },
  {
   "cell_type": "code",
   "execution_count": null,
   "metadata": {},
   "outputs": [],
   "source": [
    "mask = db.Country == \"Sweden\"\n",
    "db[mask].tail()"
   ]
  },
  {
   "cell_type": "code",
   "execution_count": null,
   "metadata": {},
   "outputs": [],
   "source": []
  },
  {
   "cell_type": "code",
   "execution_count": null,
   "metadata": {},
   "outputs": [],
   "source": []
  }
 ],
 "metadata": {
  "kernelspec": {
   "display_name": "Python 3",
   "language": "python",
   "name": "python3"
  },
  "language_info": {
   "codemirror_mode": {
    "name": "ipython",
    "version": 3
   },
   "file_extension": ".py",
   "mimetype": "text/x-python",
   "name": "python",
   "nbconvert_exporter": "python",
   "pygments_lexer": "ipython3",
   "version": "3.7.8"
  }
 },
 "nbformat": 4,
 "nbformat_minor": 4
}
